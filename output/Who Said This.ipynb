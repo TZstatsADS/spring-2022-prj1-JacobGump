{
 "cells": [
  {
   "cell_type": "markdown",
   "id": "08911fc2",
   "metadata": {},
   "source": [
    "# Who Said This?\n",
    "## Philosophy from a data point of view\n",
    "\n",
    "__sg4010 Sibo Geng__\n",
    "\n",
    "\"One should only speak where one cannot remain silent, and only speak of what one has conquered —the rest is all chatter, “literature,” bad breeding.\" --Friedrich Nietzsche\n",
    "\n",
    "I chose this quote from Nietzche not because it strike a particular chord in my heart, instead, I picked it because it set me wondering, what is the idea behind this sentence the philosopher is trying to convey? Luckily, I have data to my aid. To best utilize the data at hand, I decided to address the the challange as a supervised learning problem. Namely, the goal is to develop an algorithm that predict the school of philosophy a given sentence belongs to."
   ]
  },
  {
   "cell_type": "markdown",
   "id": "38ce90ae",
   "metadata": {},
   "source": [
    "## Exploratory Data Analysis\n",
    "First, let's get our hands dirty and have a look at how the data's been processed"
   ]
  },
  {
   "cell_type": "code",
   "execution_count": 1,
   "id": "1dc48d9c",
   "metadata": {},
   "outputs": [
    {
     "data": {
      "text/html": [
       "<div>\n",
       "<style scoped>\n",
       "    .dataframe tbody tr th:only-of-type {\n",
       "        vertical-align: middle;\n",
       "    }\n",
       "\n",
       "    .dataframe tbody tr th {\n",
       "        vertical-align: top;\n",
       "    }\n",
       "\n",
       "    .dataframe thead th {\n",
       "        text-align: right;\n",
       "    }\n",
       "</style>\n",
       "<table border=\"1\" class=\"dataframe\">\n",
       "  <thead>\n",
       "    <tr style=\"text-align: right;\">\n",
       "      <th></th>\n",
       "      <th>title</th>\n",
       "      <th>author</th>\n",
       "      <th>school</th>\n",
       "      <th>sentence_spacy</th>\n",
       "      <th>sentence_str</th>\n",
       "      <th>original_publication_date</th>\n",
       "      <th>corpus_edition_date</th>\n",
       "      <th>sentence_length</th>\n",
       "      <th>sentence_lowered</th>\n",
       "      <th>tokenized_txt</th>\n",
       "      <th>lemmatized_str</th>\n",
       "    </tr>\n",
       "  </thead>\n",
       "  <tbody>\n",
       "    <tr>\n",
       "      <th>0</th>\n",
       "      <td>Plato - Complete Works</td>\n",
       "      <td>Plato</td>\n",
       "      <td>plato</td>\n",
       "      <td>What's new, Socrates, to make you leave your ...</td>\n",
       "      <td>What's new, Socrates, to make you leave your ...</td>\n",
       "      <td>-350</td>\n",
       "      <td>1997</td>\n",
       "      <td>125</td>\n",
       "      <td>what's new, socrates, to make you leave your ...</td>\n",
       "      <td>['what', 'new', 'socrates', 'to', 'make', 'you...</td>\n",
       "      <td>what be new , Socrates , to make -PRON- lea...</td>\n",
       "    </tr>\n",
       "    <tr>\n",
       "      <th>1</th>\n",
       "      <td>Plato - Complete Works</td>\n",
       "      <td>Plato</td>\n",
       "      <td>plato</td>\n",
       "      <td>Surely you are not prosecuting anyone before t...</td>\n",
       "      <td>Surely you are not prosecuting anyone before t...</td>\n",
       "      <td>-350</td>\n",
       "      <td>1997</td>\n",
       "      <td>69</td>\n",
       "      <td>surely you are not prosecuting anyone before t...</td>\n",
       "      <td>['surely', 'you', 'are', 'not', 'prosecuting',...</td>\n",
       "      <td>surely -PRON- be not prosecute anyone before ...</td>\n",
       "    </tr>\n",
       "    <tr>\n",
       "      <th>2</th>\n",
       "      <td>Plato - Complete Works</td>\n",
       "      <td>Plato</td>\n",
       "      <td>plato</td>\n",
       "      <td>The Athenians do not call this a prosecution b...</td>\n",
       "      <td>The Athenians do not call this a prosecution b...</td>\n",
       "      <td>-350</td>\n",
       "      <td>1997</td>\n",
       "      <td>74</td>\n",
       "      <td>the athenians do not call this a prosecution b...</td>\n",
       "      <td>['the', 'athenians', 'do', 'not', 'call', 'thi...</td>\n",
       "      <td>the Athenians do not call this a prosecution ...</td>\n",
       "    </tr>\n",
       "    <tr>\n",
       "      <th>3</th>\n",
       "      <td>Plato - Complete Works</td>\n",
       "      <td>Plato</td>\n",
       "      <td>plato</td>\n",
       "      <td>What is this you say?</td>\n",
       "      <td>What is this you say?</td>\n",
       "      <td>-350</td>\n",
       "      <td>1997</td>\n",
       "      <td>21</td>\n",
       "      <td>what is this you say?</td>\n",
       "      <td>['what', 'is', 'this', 'you', 'say']</td>\n",
       "      <td>what be this -PRON- say ?</td>\n",
       "    </tr>\n",
       "    <tr>\n",
       "      <th>4</th>\n",
       "      <td>Plato - Complete Works</td>\n",
       "      <td>Plato</td>\n",
       "      <td>plato</td>\n",
       "      <td>Someone must have indicted you, for you are no...</td>\n",
       "      <td>Someone must have indicted you, for you are no...</td>\n",
       "      <td>-350</td>\n",
       "      <td>1997</td>\n",
       "      <td>101</td>\n",
       "      <td>someone must have indicted you, for you are no...</td>\n",
       "      <td>['someone', 'must', 'have', 'indicted', 'you',...</td>\n",
       "      <td>someone must have indict -PRON- , for -PRON- ...</td>\n",
       "    </tr>\n",
       "  </tbody>\n",
       "</table>\n",
       "</div>"
      ],
      "text/plain": [
       "                    title author school  \\\n",
       "0  Plato - Complete Works  Plato  plato   \n",
       "1  Plato - Complete Works  Plato  plato   \n",
       "2  Plato - Complete Works  Plato  plato   \n",
       "3  Plato - Complete Works  Plato  plato   \n",
       "4  Plato - Complete Works  Plato  plato   \n",
       "\n",
       "                                      sentence_spacy  \\\n",
       "0   What's new, Socrates, to make you leave your ...   \n",
       "1  Surely you are not prosecuting anyone before t...   \n",
       "2  The Athenians do not call this a prosecution b...   \n",
       "3                              What is this you say?   \n",
       "4  Someone must have indicted you, for you are no...   \n",
       "\n",
       "                                        sentence_str  \\\n",
       "0   What's new, Socrates, to make you leave your ...   \n",
       "1  Surely you are not prosecuting anyone before t...   \n",
       "2  The Athenians do not call this a prosecution b...   \n",
       "3                              What is this you say?   \n",
       "4  Someone must have indicted you, for you are no...   \n",
       "\n",
       "   original_publication_date  corpus_edition_date  sentence_length  \\\n",
       "0                       -350                 1997              125   \n",
       "1                       -350                 1997               69   \n",
       "2                       -350                 1997               74   \n",
       "3                       -350                 1997               21   \n",
       "4                       -350                 1997              101   \n",
       "\n",
       "                                    sentence_lowered  \\\n",
       "0   what's new, socrates, to make you leave your ...   \n",
       "1  surely you are not prosecuting anyone before t...   \n",
       "2  the athenians do not call this a prosecution b...   \n",
       "3                              what is this you say?   \n",
       "4  someone must have indicted you, for you are no...   \n",
       "\n",
       "                                       tokenized_txt  \\\n",
       "0  ['what', 'new', 'socrates', 'to', 'make', 'you...   \n",
       "1  ['surely', 'you', 'are', 'not', 'prosecuting',...   \n",
       "2  ['the', 'athenians', 'do', 'not', 'call', 'thi...   \n",
       "3               ['what', 'is', 'this', 'you', 'say']   \n",
       "4  ['someone', 'must', 'have', 'indicted', 'you',...   \n",
       "\n",
       "                                      lemmatized_str  \n",
       "0     what be new , Socrates , to make -PRON- lea...  \n",
       "1   surely -PRON- be not prosecute anyone before ...  \n",
       "2   the Athenians do not call this a prosecution ...  \n",
       "3                          what be this -PRON- say ?  \n",
       "4   someone must have indict -PRON- , for -PRON- ...  "
      ]
     },
     "execution_count": 1,
     "metadata": {},
     "output_type": "execute_result"
    }
   ],
   "source": [
    "import pandas as pd\n",
    "df = pd.read_csv(\"../data/philosophy_data.csv\")\n",
    "df.head()"
   ]
  },
  {
   "cell_type": "markdown",
   "id": "44e00be1",
   "metadata": {},
   "source": [
    "Much to our convenience, the data has been thoroughly preprocessed. Here is a illustration of the process."
   ]
  },
  {
   "cell_type": "code",
   "execution_count": 2,
   "id": "5ce41280",
   "metadata": {},
   "outputs": [
    {
     "name": "stdout",
     "output_type": "stream",
     "text": [
      "raw data: \n",
      "He belongs to the Pitthean deme, if you know anyone from that deme called Meletus, with long hair, not much of a beard, and a rather aquiline nose.\n",
      "\n",
      "lowered: \n",
      "he belongs to the pitthean deme, if you know anyone from that deme called meletus, with long hair, not much of a beard, and a rather aquiline nose.\n",
      "\n",
      "tokenized: \n",
      "['he', 'belongs', 'to', 'the', 'pitthean', 'deme', 'if', 'you', 'know', 'anyone', 'from', 'that', 'deme', 'called', 'meletus', 'with', 'long', 'hair', 'not', 'much', 'of', 'beard', 'and', 'rather', 'aquiline', 'nose']\n",
      "\n",
      "lemmatized:\n",
      " -PRON- belong to the Pitthean deme , if -PRON- know anyone from that deme call Meletus , with long hair , not much of a beard , and a rather aquiline nose .\n",
      "\n"
     ]
    }
   ],
   "source": [
    "# illustration of data preprocessing pipeline\n",
    "x = df.iloc[9]\n",
    "\n",
    "print('''raw data: \\n{}\\n\\nlowered: \\n{}\\n\\ntokenized: \\n{}\\n\\nlemmatized:\\n{}\\n'''.format( \\\n",
    "            x['sentence_spacy'], x['sentence_lowered'], x['tokenized_txt'], x['lemmatized_str'] ))"
   ]
  },
  {
   "cell_type": "markdown",
   "id": "61763a4f",
   "metadata": {},
   "source": [
    "Although the text has already been cleaned and lemmatized, it still can't be fed to machines directly. We have to figure out a representation technique that map the text data to numerical values. A most naive while direct way will be taking the length of the sentence. After all some people like to use short and curt sentence, while others prefer more sophisticated expression.\n",
    "![sentence_length](../figs/sentence_len_box.jpeg)"
   ]
  },
  {
   "cell_type": "markdown",
   "id": "66e75048",
   "metadata": {},
   "source": [
    "Apparently philosophers from different schools have different prefrence in sentence length, where scholars from __empiricism__ and __capitalism__ wrote the longest verses while __Nietzche__ himself wrote the shortest sentence among all schools. However sentence length all by itself does not carry enough information for us to distinguish between different schools in philosophy. For instance, a sentence of 150 words can easily belong to any track."
   ]
  },
  {
   "cell_type": "markdown",
   "id": "c888c4ad",
   "metadata": {},
   "source": [
    "To generate more specific features for each sentence, we need to dive a little deeper about the choice of word each philosopher used."
   ]
  },
  {
   "cell_type": "markdown",
   "id": "09f467b5",
   "metadata": {},
   "source": [
    "Communism                 | Capitalism             \n",
    "- | -\n",
    "![plato_wc](../figs/communism_wordcloud.jpeg) | ![aris_wc](../figs/capitalism_wordcloud.jpeg)"
   ]
  },
  {
   "cell_type": "markdown",
   "id": "7731c613",
   "metadata": {},
   "source": [
    "From the wordcloud shown above(larger fonts indicate higher frequency of use), we can see that the favorite vocabulary of different schools of philosophy differs significantly. Thus, by counting the apperances of words in a sentence sounds like a reasonable way to represent the sentence.\n",
    "\n",
    "In order to have a rough estimate of the difficulty of the task, I first sampled 200 sentences from two schools, namely, __communism__ and __Nietzche__, and calculated their features via the \"Term Frequency — Inverse Document Frequency\" technique. Then I conducted a PCA that mapped the feature space into only two dimensions for the sake of visualization. The results are as follows:\n",
    "![PCA](../figs/PCA_dicho.jpeg)"
   ]
  },
  {
   "cell_type": "markdown",
   "id": "259912fe",
   "metadata": {},
   "source": [
    "It can be seen from the scatter plot that most of the green dots are distributed on the left side of the graph, while the yellow ones are on the right. Note that the PCA process did not utilize any information concerning the school of the sentence, i.e., it is unsupervised. The result gave us hope that the __tf-idf__ feature would serve as a good feature for classification task."
   ]
  },
  {
   "cell_type": "markdown",
   "id": "599696ba",
   "metadata": {},
   "source": [
    "## Naive Bayes Model\n",
    "So far, we have had a rough idea of what the data looks like, and a scheme worked out to extract features from the data. In this section, I will use a __Naive Bayes Model__ to categorize each sentence to corresponding school.\n",
    "\n",
    "With Train/Test set splitted randomly, and a model fitted, we are ready to check out the result:\n",
    "![cm_baseline](../figs/cm_nb_baseline.jpeg)\n",
    "\n",
    "The __y-axis(vertical)__ represents the ground truth label of the sentence, while the __x-aixs(horizonal)__ indicates the prediction of the model. A lighter color a certain grid has, the greater probability the model prediction falls in the corresponding school, while a darker color shows the opposite. Several interesting findings caught my eyes.\n",
    "\n",
    "### 1. A relatively high error rate for sentences from Stoicism\n",
    "In general, our model performed pretty good, and most of the diagonal grids of the matrix have lighter color, indicating the prediction by our model is correct.However,the model falsely predicts many sentences from __Stoicism__ as other school's. After a closer look, I found this phenomenon can be explained by the imbalanced distribution of training data.\n",
    "![school_dist](../figs/school_cnt_pie.jpeg)\n",
    "As shown by the pie chart above, the sentence number from stoicism takes up the smallest proportion among all training data. With some over-sampling from the minor categories, we are able to alleviate the problem.\n",
    "\n",
    "before                 | after             \n",
    "- | -\n",
    "![cm_baseline](../figs/cm_nb_baseline.jpeg) | ![cm_balanced](../figs/cm_nb_balanced.jpeg)"
   ]
  },
  {
   "cell_type": "markdown",
   "id": "ec903e45",
   "metadata": {},
   "source": [
    "### 2. Dimension of feature space is too large\n",
    "The featurization method we used here is equivalent to creating a one-hot vector whose length is equal to the number of vocabulary present in all texts. Such a feature vector is easy to create, but due to its large scale, it becomes impossible to run many machine learning algorithms in reasonable time. Are all these dimensions/words equally important to our classification task? Luckily we can derive each word's importance from the coeficients of the trained __Naive Bayes__ model.\n",
    "\n",
    "model learned | frequency\n",
    "- | -\n",
    "![cap_model](../figs/word_importance_capitalism.jpeg) | ![cap_freq](../figs/capitalism_wordcloud.jpeg)\n",
    "\n",
    "The left word cloud shows the words that the model found most __informative__ that suggest a sentence belongs to school __Capitalism__. The right word cloud is the most frequent words that appear in __Capitalism__ philosophers' works. We see that the model deemed words like \"money\" and \"price\" of great importance, which is in accordance with our intuition.\n",
    "\n",
    "The above study gives us an inspiration that we may only consider the union of most important words for all schools to help reduce the size of vocabulary, thus reducing our feature dimension."
   ]
  },
  {
   "cell_type": "markdown",
   "id": "d34b7419",
   "metadata": {},
   "source": [
    "Pursuing this track of thought, I conducted a comparison experiment. The configurations are as follow:"
   ]
  },
  {
   "cell_type": "markdown",
   "id": "b9e342bc",
   "metadata": {},
   "source": [
    " config| Experiment | Baseline\n",
    " - | - | -\n",
    " feature | Union of top features by original NB model | Words of highest frequency, same size as exp config\n",
    "  confusion matrix |![res_exp](../figs/cm_nb_ld.jpeg) | ![res_baseline](../figs/cm_nb_bl.jpeg)\n",
    "  F1 score | 0.56 | 0.53"
   ]
  },
  {
   "cell_type": "markdown",
   "id": "01c3eb1a",
   "metadata": {},
   "source": [
    "From the confusion matrix shown above, we can easily see that by utilizing knowledge obtained by __Naive Bayes__ model, we are able to better select features. The quantative result also supports the conclusion."
   ]
  },
  {
   "cell_type": "markdown",
   "id": "d80f421c",
   "metadata": {},
   "source": [
    "## Application"
   ]
  },
  {
   "cell_type": "markdown",
   "id": "adcff0a3",
   "metadata": {},
   "source": [
    "I pulled from the internet several quotes from former president __Donald Trump__. The original data looks like this:"
   ]
  },
  {
   "cell_type": "code",
   "execution_count": 3,
   "id": "64098c6d",
   "metadata": {},
   "outputs": [
    {
     "data": {
      "text/html": [
       "<div>\n",
       "<style scoped>\n",
       "    .dataframe tbody tr th:only-of-type {\n",
       "        vertical-align: middle;\n",
       "    }\n",
       "\n",
       "    .dataframe tbody tr th {\n",
       "        vertical-align: top;\n",
       "    }\n",
       "\n",
       "    .dataframe thead th {\n",
       "        text-align: right;\n",
       "    }\n",
       "</style>\n",
       "<table border=\"1\" class=\"dataframe\">\n",
       "  <thead>\n",
       "    <tr style=\"text-align: right;\">\n",
       "      <th></th>\n",
       "      <th>raw_data</th>\n",
       "    </tr>\n",
       "  </thead>\n",
       "  <tbody>\n",
       "    <tr>\n",
       "      <th>0</th>\n",
       "      <td>I deal with foreign countries. I made a lot of...</td>\n",
       "    </tr>\n",
       "    <tr>\n",
       "      <th>1</th>\n",
       "      <td>With the coldest winter ever recorded, with sn...</td>\n",
       "    </tr>\n",
       "    <tr>\n",
       "      <th>2</th>\n",
       "      <td>I don't like to sit back and gloat, because th...</td>\n",
       "    </tr>\n",
       "    <tr>\n",
       "      <th>3</th>\n",
       "      <td>This very expensive GLOBAL WARMING bullshit ha...</td>\n",
       "    </tr>\n",
       "    <tr>\n",
       "      <th>4</th>\n",
       "      <td>A lot of people want me to run for things, for...</td>\n",
       "    </tr>\n",
       "  </tbody>\n",
       "</table>\n",
       "</div>"
      ],
      "text/plain": [
       "                                            raw_data\n",
       "0  I deal with foreign countries. I made a lot of...\n",
       "1  With the coldest winter ever recorded, with sn...\n",
       "2  I don't like to sit back and gloat, because th...\n",
       "3  This very expensive GLOBAL WARMING bullshit ha...\n",
       "4  A lot of people want me to run for things, for..."
      ]
     },
     "execution_count": 3,
     "metadata": {},
     "output_type": "execute_result"
    }
   ],
   "source": [
    "test_df = pd.read_csv(\"../data/trump_quote.csv\")\n",
    "test_df.head()"
   ]
  },
  {
   "cell_type": "markdown",
   "id": "a146b67a",
   "metadata": {},
   "source": [
    "Interesting enough, our model categorized 3 out of the 5 quotes as of school __Plato__. One possible explanation is that in his work _The Republic_, __Plato__ wrote his lines in conversations, using many first personal pronouns, which is just like the quotes from __Trump__."
   ]
  },
  {
   "cell_type": "markdown",
   "id": "6aa4beb8",
   "metadata": {},
   "source": [
    "## Summary"
   ]
  },
  {
   "cell_type": "markdown",
   "id": "5411853f",
   "metadata": {},
   "source": [
    "To draw a conclusion of this project, we have explored the text data, looked into the subject of hand-crafted feature for text data, and trained a compact but pretty decent model to predict the label of sentences, and finally used it on some real-world test data. The take home message are:\n",
    "\n",
    "1. sentence length is informative, but not deterministic.\n",
    "2. unbalanced class distribution may affect NB model performance, oversampling can help.\n",
    "3. the most frequently appeared words are not necesssarily the most _important_ ones.\n",
    "4. deep in his heart, Donald Trump believes in Plato's idea.\n"
   ]
  },
  {
   "cell_type": "markdown",
   "id": "3b6a029a",
   "metadata": {},
   "source": [
    "## Refrence\n",
    "\n",
    "1. data cleansing pipeline: https://towardsdatascience.com/preprocessing-text-data-using-python-576206753c28\n",
    "2. matplotlib usage: http://c.biancheng.net/matplotlib/boxplot.html\n",
    "3. PCA: https://stackoverflow.com/questions/28160335/plot-a-document-tfidf-2d-graph\n",
    "4. machine learning pipeline(data preparation, metrics): https://www.kaggle.com/ludovicocuoghi/detecting-bullying-tweets-w-pytorch-bi-lstm/notebook\n",
    "5. sci-kit learn Naive Bayes model interpretation: https://stackoverflow.com/questions/50526898/how-to-get-feature-importance-in-naive-bayes\n",
    "6. wordcloud visualization: https://stackoverflow.com/questions/62563242/how-to-visualize-the-size-of-a-word-depending-on-its-value\n",
    "7. Donald Trump quotes: https://www.inspiringquotes.us/author/8279-donald-trump"
   ]
  },
  {
   "cell_type": "code",
   "execution_count": null,
   "id": "fd123062",
   "metadata": {},
   "outputs": [],
   "source": []
  }
 ],
 "metadata": {
  "kernelspec": {
   "display_name": "eods-s22",
   "language": "python",
   "name": "eods-s22"
  },
  "language_info": {
   "codemirror_mode": {
    "name": "ipython",
    "version": 3
   },
   "file_extension": ".py",
   "mimetype": "text/x-python",
   "name": "python",
   "nbconvert_exporter": "python",
   "pygments_lexer": "ipython3",
   "version": "3.9.9"
  }
 },
 "nbformat": 4,
 "nbformat_minor": 5
}
